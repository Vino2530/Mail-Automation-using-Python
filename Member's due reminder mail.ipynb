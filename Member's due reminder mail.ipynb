{
 "cells": [
  {
   "cell_type": "code",
   "execution_count": 1,
   "metadata": {},
   "outputs": [],
   "source": [
    "#Importing module\n",
    "\n",
    "import openpyxl as excel"
   ]
  },
  {
   "cell_type": "code",
   "execution_count": 2,
   "metadata": {},
   "outputs": [],
   "source": [
    "#Loading a excel file using workbook object\n",
    "#We are going to send a dues reminder mail for those who didn't paid the due amount\n",
    "\n",
    "wb=excel.load_workbook('duesRecords.xlsx')"
   ]
  },
  {
   "cell_type": "code",
   "execution_count": 3,
   "metadata": {},
   "outputs": [
    {
     "name": "stderr",
     "output_type": "stream",
     "text": [
      "c:\\program files\\python\\lib\\site-packages\\ipykernel_launcher.py:3: DeprecationWarning: Call to deprecated function get_sheet_by_name (Use wb[sheetname]).\n",
      "  This is separate from the ipykernel package so we can avoid doing imports until\n"
     ]
    }
   ],
   "source": [
    "#Opening a sheet using sheet object\n",
    "\n",
    "sheet=wb.get_sheet_by_name('Sheet1')"
   ]
  },
  {
   "cell_type": "code",
   "execution_count": 4,
   "metadata": {},
   "outputs": [
    {
     "data": {
      "text/plain": [
       "<Worksheet \"Sheet1\">"
      ]
     },
     "execution_count": 4,
     "metadata": {},
     "output_type": "execute_result"
    }
   ],
   "source": [
    "sheet"
   ]
  },
  {
   "cell_type": "code",
   "execution_count": 6,
   "metadata": {},
   "outputs": [
    {
     "data": {
      "text/plain": [
       "openpyxl.worksheet.worksheet.Worksheet"
      ]
     },
     "execution_count": 6,
     "metadata": {},
     "output_type": "execute_result"
    }
   ],
   "source": [
    "#To verify the type of sheet\n",
    "\n",
    "type(sheet)"
   ]
  },
  {
   "cell_type": "code",
   "execution_count": 5,
   "metadata": {},
   "outputs": [],
   "source": [
    "#To get the last column using max_column parameter\n",
    "#max_column replaced the get_highest_column from python's old versions \n",
    "\n",
    "last_col=sheet.max_column"
   ]
  },
  {
   "cell_type": "code",
   "execution_count": 9,
   "metadata": {},
   "outputs": [
    {
     "data": {
      "text/plain": [
       "8"
      ]
     },
     "execution_count": 9,
     "metadata": {},
     "output_type": "execute_result"
    }
   ],
   "source": [
    "last_col"
   ]
  },
  {
   "cell_type": "code",
   "execution_count": 8,
   "metadata": {},
   "outputs": [],
   "source": [
    "#We need to find the latest month of due records sheet\n",
    "#Latest month is last column of given dataset\n",
    "#It returns the last column value using last_col number\n",
    "\n",
    "last_month=sheet.cell(row=1, column=last_col).value"
   ]
  },
  {
   "cell_type": "code",
   "execution_count": 10,
   "metadata": {},
   "outputs": [
    {
     "data": {
      "text/plain": [
       "'Jun 2014'"
      ]
     },
     "execution_count": 10,
     "metadata": {},
     "output_type": "execute_result"
    }
   ],
   "source": [
    "#To print the latest month \n",
    "\n",
    "last_month"
   ]
  },
  {
   "cell_type": "code",
   "execution_count": 6,
   "metadata": {},
   "outputs": [],
   "source": [
    "#To find the unpaid members \n",
    "#max_row pararmeter using to find the length of rows \n",
    "\n",
    "unpaid_mem={}\n",
    "\n",
    "for r in range(2,sheet.max_row+1):\n",
    "    payment=sheet.cell(row=r, column=last_col).value\n",
    "    if payment != 'paid':\n",
    "        name=sheet.cell(row=r,column=1).value\n",
    "        email=sheet.cell(row=r,column=2).value\n",
    "        unpaid_mem[name]=email\n",
    "        "
   ]
  },
  {
   "cell_type": "code",
   "execution_count": 7,
   "metadata": {},
   "outputs": [
    {
     "data": {
      "text/plain": [
       "{'Alice': 'alice@example.com',\n",
       " 'Bob': 'bob@example.com',\n",
       " 'Eve': 'eve@example.com'}"
      ]
     },
     "execution_count": 7,
     "metadata": {},
     "output_type": "execute_result"
    }
   ],
   "source": [
    "#Displaying the unpaid members list with their name\n",
    "\n",
    "unpaid_mem"
   ]
  },
  {
   "cell_type": "code",
   "execution_count": 13,
   "metadata": {},
   "outputs": [],
   "source": [
    "#Importing SMTP module for email accessing\n",
    "\n",
    "import smtplib as sm\n",
    "conn=sm.SMTP('smtp.gmail.com',587)"
   ]
  },
  {
   "cell_type": "code",
   "execution_count": 14,
   "metadata": {},
   "outputs": [
    {
     "data": {
      "text/plain": [
       "(250,\n",
       " b'smtp.gmail.com at your service, [2409:4072:90d:22a8:215b:993:178d:dcd5]\\nSIZE 35882577\\n8BITMIME\\nSTARTTLS\\nENHANCEDSTATUSCODES\\nPIPELINING\\nCHUNKING\\nSMTPUTF8')"
      ]
     },
     "execution_count": 14,
     "metadata": {},
     "output_type": "execute_result"
    }
   ],
   "source": [
    "#Initiate the connection \n",
    "\n",
    "conn.ehlo()"
   ]
  },
  {
   "cell_type": "code",
   "execution_count": 15,
   "metadata": {},
   "outputs": [
    {
     "data": {
      "text/plain": [
       "(220, b'2.0.0 Ready to start TLS')"
      ]
     },
     "execution_count": 15,
     "metadata": {},
     "output_type": "execute_result"
    }
   ],
   "source": [
    "#Encryption \n",
    "\n",
    "conn.starttls()"
   ]
  },
  {
   "cell_type": "code",
   "execution_count": 16,
   "metadata": {},
   "outputs": [
    {
     "data": {
      "text/plain": [
       "(250,\n",
       " b'smtp.gmail.com at your service, [2409:4072:90d:22a8:215b:993:178d:dcd5]\\nSIZE 35882577\\n8BITMIME\\nAUTH LOGIN PLAIN XOAUTH2 PLAIN-CLIENTTOKEN OAUTHBEARER XOAUTH\\nENHANCEDSTATUSCODES\\nPIPELINING\\nCHUNKING\\nSMTPUTF8')"
      ]
     },
     "execution_count": 16,
     "metadata": {},
     "output_type": "execute_result"
    }
   ],
   "source": [
    "conn.ehlo()"
   ]
  },
  {
   "cell_type": "code",
   "execution_count": 17,
   "metadata": {},
   "outputs": [
    {
     "data": {
      "text/plain": [
       "(235, b'2.7.0 Accepted')"
      ]
     },
     "execution_count": 17,
     "metadata": {},
     "output_type": "execute_result"
    }
   ],
   "source": [
    "#To login to mail id\n",
    "\n",
    "conn.login('dummyemailidfor.test@gmail.com','dummypassword')"
   ]
  },
  {
   "cell_type": "code",
   "execution_count": 19,
   "metadata": {},
   "outputs": [
    {
     "name": "stdout",
     "output_type": "stream",
     "text": [
      "sending mail to alice@example.com....\n",
      "all done\n",
      "sending mail to bob@example.com....\n",
      "all done\n",
      "sending mail to eve@example.com....\n",
      "all done\n"
     ]
    }
   ],
   "source": [
    "#Here we are going to send mail to the unpaid members which we filtered earlier\n",
    "\n",
    "for name, email in unpaid_mem.items():\n",
    "    body= \"Subject: %s dues unpaid.\\nDear %s,\\nRecords show that you have not paid dues for %s. Please make this payment as soon as possible. Thank you!'\" % (last_month, name, last_month) \n",
    "    print('sending mail to %s....' %email)\n",
    "    mail_status=conn.sendmail('dummyemailidfor.test@gmail.com',email,body)\n",
    "    \n",
    "    if mail_status != {}:\n",
    "        print('Some problem in sending mails')\n",
    "    else:\n",
    "        print('all done')"
   ]
  },
  {
   "cell_type": "code",
   "execution_count": null,
   "metadata": {},
   "outputs": [],
   "source": []
  }
 ],
 "metadata": {
  "kernelspec": {
   "display_name": "Python 3",
   "language": "python",
   "name": "python3"
  },
  "language_info": {
   "codemirror_mode": {
    "name": "ipython",
    "version": 3
   },
   "file_extension": ".py",
   "mimetype": "text/x-python",
   "name": "python",
   "nbconvert_exporter": "python",
   "pygments_lexer": "ipython3",
   "version": "3.7.3"
  }
 },
 "nbformat": 4,
 "nbformat_minor": 2
}
